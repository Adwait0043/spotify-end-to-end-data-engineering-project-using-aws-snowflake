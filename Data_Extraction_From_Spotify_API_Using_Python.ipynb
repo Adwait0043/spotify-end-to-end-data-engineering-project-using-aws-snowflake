{
 "cells": [
  {
   "cell_type": "code",
   "execution_count": 1,
   "id": "68cff5f2-35e1-479d-9e05-fb1394ff83b0",
   "metadata": {},
   "outputs": [
    {
     "name": "stdout",
     "output_type": "stream",
     "text": [
      "Collecting spotipy\n",
      "  Downloading spotipy-2.24.0-py3-none-any.whl.metadata (4.9 kB)\n",
      "Collecting redis>=3.5.3 (from spotipy)\n",
      "  Downloading redis-5.1.0-py3-none-any.whl.metadata (9.1 kB)\n",
      "Requirement already satisfied: requests>=2.25.0 in c:\\users\\adwait kumbhare\\anaconda3\\lib\\site-packages (from spotipy) (2.31.0)\n",
      "Requirement already satisfied: urllib3>=1.26.0 in c:\\users\\adwait kumbhare\\anaconda3\\lib\\site-packages (from spotipy) (2.0.7)\n",
      "Requirement already satisfied: charset-normalizer<4,>=2 in c:\\users\\adwait kumbhare\\anaconda3\\lib\\site-packages (from requests>=2.25.0->spotipy) (2.0.4)\n",
      "Requirement already satisfied: idna<4,>=2.5 in c:\\users\\adwait kumbhare\\anaconda3\\lib\\site-packages (from requests>=2.25.0->spotipy) (3.4)\n",
      "Requirement already satisfied: certifi>=2017.4.17 in c:\\users\\adwait kumbhare\\anaconda3\\lib\\site-packages (from requests>=2.25.0->spotipy) (2024.2.2)\n",
      "Downloading spotipy-2.24.0-py3-none-any.whl (30 kB)\n",
      "Downloading redis-5.1.0-py3-none-any.whl (261 kB)\n",
      "   ---------------------------------------- 0.0/261.2 kB ? eta -:--:--\n",
      "   --------------------- ------------------ 143.4/261.2 kB 4.3 MB/s eta 0:00:01\n",
      "   ---------------------------------------- 261.2/261.2 kB 4.0 MB/s eta 0:00:00\n",
      "Installing collected packages: redis, spotipy\n",
      "Successfully installed redis-5.1.0 spotipy-2.24.0\n",
      "Note: you may need to restart the kernel to use updated packages.\n"
     ]
    }
   ],
   "source": [
    "pip install spotipy"
   ]
  },
  {
   "cell_type": "code",
   "execution_count": 34,
   "id": "957d4ee5-69b8-4a20-b9cc-3323c00e14a7",
   "metadata": {},
   "outputs": [],
   "source": [
    "import spotipy\n",
    "from spotipy.oauth2 import SpotifyClientCredentials\n",
    "import pandas as pd"
   ]
  },
  {
   "cell_type": "code",
   "execution_count": 4,
   "id": "8460ed6a-8923-4b31-8d50-7e9105a1b799",
   "metadata": {},
   "outputs": [],
   "source": [
    "client_credentials_manager = SpotifyClientCredentials(client_id = \"5eb991d290a34252b8bb360422ed4e5f\",client_secret=\"c9f1a87c66594bbda071c622f174db75\")"
   ]
  },
  {
   "cell_type": "code",
   "execution_count": 5,
   "id": "1f63b354-b5ca-41ad-88de-b826ef7bd38c",
   "metadata": {},
   "outputs": [],
   "source": [
    "sp = spotipy.Spotify(client_credentials_manager = client_credentials_manager)"
   ]
  },
  {
   "cell_type": "code",
   "execution_count": 6,
   "id": "51d6fe35-9042-4cf9-acda-367442cc4dec",
   "metadata": {},
   "outputs": [],
   "source": [
    "playlist_link = \"https://open.spotify.com/playlist/37i9dQZEVXbMDoHDwVN2tF\""
   ]
  },
  {
   "cell_type": "code",
   "execution_count": 13,
   "id": "baa6abb9-dbf4-4d72-9049-361bf8c01845",
   "metadata": {},
   "outputs": [],
   "source": [
    "playlist_URI = playlist_link.split(\"/\")[-1]"
   ]
  },
  {
   "cell_type": "code",
   "execution_count": 25,
   "id": "f1fb9262-c01c-45f4-8d91-19313cfe3951",
   "metadata": {},
   "outputs": [],
   "source": [
    "data = sp.playlist_tracks(playlist_URI)"
   ]
  },
  {
   "cell_type": "code",
   "execution_count": 28,
   "id": "71c5e3e9-f0b2-47df-a344-fa4eadfbb4cc",
   "metadata": {},
   "outputs": [],
   "source": [
    "# Writing the logic(for loop) to extract only necessary data and save it in a variable\n",
    "album_list = []\n",
    "for row in data['items']:\n",
    "    album_id = row['track']['album']['id']\n",
    "    album_name = row['track']['album']['name']\n",
    "    album_release_date = row['track']['album']['release_date']\n",
    "    album_total_tracks = row['track']['album']['total_tracks']\n",
    "    album_url = row['track']['album']['external_urls']['spotify']\n",
    "    album_element = {'album_id':album_id,'name':album_name,'release_date':album_release_date,'total_tracks':album_total_tracks,'url':album_url}\n",
    "\n",
    "    album_list.append(album_element)\n",
    "\n",
    "\n"
   ]
  },
  {
   "cell_type": "code",
   "execution_count": 33,
   "id": "2c1660ac-5bbd-4fec-a4ef-9b7c284558a1",
   "metadata": {},
   "outputs": [],
   "source": [
    "# Extracting song_list Data\n",
    "\n",
    "song_list = []\n",
    "for row in data['items']:\n",
    "    song_id = row['track']['id']\n",
    "    song_name = row['track']['name']\n",
    "    song_duration = row['track']['duration_ms']\n",
    "    song_url = row['track']['external_urls']['spotify']\n",
    "    song_popularity = row['track']['popularity']\n",
    "    song_added = row['added_at']\n",
    "    album_id = row['track']['album']['id']\n",
    "    artist_id = row['track']['album']['artists'][0]['id']\n",
    "    song_element = {'song_id':song_id,'song_name':song_name,'duration_ms':song_duration,'url':song_url,'popularity':song_popularity,'song_added':song_added,\n",
    "                   'album_id':album_id,'artist_id':artist_id\n",
    "                   }\n",
    "    song_list.append(song_element)"
   ]
  },
  {
   "cell_type": "code",
   "execution_count": 41,
   "id": "59c99f57-3735-440f-8109-61abe452b83a",
   "metadata": {},
   "outputs": [],
   "source": [
    "artist_list = []\n",
    "for row in data['items']:\n",
    "    for key,value in row.items():\n",
    "        if key == \"track\":\n",
    "            for artist in value['artists']:\n",
    "                artist_dict = {'artist_id':artist['id'],'artist_name':artist['name'],'external_url':artist['href']}\n",
    "                artist_list.append(artist_dict)"
   ]
  },
  {
   "cell_type": "code",
   "execution_count": 42,
   "id": "589f2a26-70b9-47b1-89df-39c5a5d99890",
   "metadata": {},
   "outputs": [],
   "source": [
    "album_df = pd.DataFrame.from_dict(album_list)\n",
    "artist_df = pd.DataFrame.from_dict(artist_list)\n",
    "song_df = pd.DataFrame.from_dict(song_list)"
   ]
  },
  {
   "cell_type": "code",
   "execution_count": 51,
   "id": "2c2c6c98-a59e-4b10-a411-5254bac3761c",
   "metadata": {},
   "outputs": [],
   "source": [
    "# Changing Object DataType To Datatime DataType For Less Redundancy and Appropriate DataType\n",
    "album_df['release_date'] = pd.to_datetime(album_df['release_date'], errors='coerce')\n",
    "song_df['song_added'] = pd.to_datetime(song_df['song_added'], errors='coerce')\n",
    "artist_df['song_added'] = pd.to_datetime(song_df['song_added'], errors='coerce')"
   ]
  },
  {
   "cell_type": "code",
   "execution_count": 37,
   "id": "f32f4aa6-dc5a-4fb3-bf7f-d3c55d3bbeaf",
   "metadata": {},
   "outputs": [
    {
     "name": "stdout",
     "output_type": "stream",
     "text": [
      "<class 'pandas.core.frame.DataFrame'>\n",
      "RangeIndex: 50 entries, 0 to 49\n",
      "Data columns (total 5 columns):\n",
      " #   Column        Non-Null Count  Dtype \n",
      "---  ------        --------------  ----- \n",
      " 0   album_id      50 non-null     object\n",
      " 1   name          50 non-null     object\n",
      " 2   release_date  50 non-null     object\n",
      " 3   total_tracks  50 non-null     int64 \n",
      " 4   url           50 non-null     object\n",
      "dtypes: int64(1), object(4)\n",
      "memory usage: 2.1+ KB\n"
     ]
    }
   ],
   "source": [
    "album_df.info()"
   ]
  },
  {
   "cell_type": "code",
   "execution_count": 52,
   "id": "5f087289-e6f3-4126-a3ad-c802cf082256",
   "metadata": {},
   "outputs": [],
   "source": [
    "# Dropping The Duplicates\n",
    "album_df = album_df.drop_duplicates(subset= ['album_id'])\n",
    "artist_df = artist_df.drop_duplicates(subset= ['artist_id'])\n",
    "song_df = song_df.drop_duplicates(subset= ['song_id'])\n"
   ]
  },
  {
   "cell_type": "code",
   "execution_count": null,
   "id": "4614feae-795a-4e28-afe0-fd45c5654a1c",
   "metadata": {},
   "outputs": [],
   "source": []
  }
 ],
 "metadata": {
  "kernelspec": {
   "display_name": "Python 3 (ipykernel)",
   "language": "python",
   "name": "python3"
  },
  "language_info": {
   "codemirror_mode": {
    "name": "ipython",
    "version": 3
   },
   "file_extension": ".py",
   "mimetype": "text/x-python",
   "name": "python",
   "nbconvert_exporter": "python",
   "pygments_lexer": "ipython3",
   "version": "3.11.7"
  }
 },
 "nbformat": 4,
 "nbformat_minor": 5
}
